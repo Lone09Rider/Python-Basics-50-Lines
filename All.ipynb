{
 "cells": [
  {
   "cell_type": "code",
   "execution_count": 1,
   "id": "ee5e0634-6e25-40a5-a7da-58af2df8dfc4",
   "metadata": {},
   "outputs": [
    {
     "name": "stdout",
     "output_type": "stream",
     "text": [
      "hello\n"
     ]
    }
   ],
   "source": [
    "print(\"hello\")"
   ]
  },
  {
   "cell_type": "code",
   "execution_count": 2,
   "id": "9ed8c575-36a2-40fb-83ac-3586b44ab33a",
   "metadata": {},
   "outputs": [
    {
     "name": "stdin",
     "output_type": "stream",
     "text": [
      " 9\n"
     ]
    },
    {
     "name": "stdout",
     "output_type": "stream",
     "text": [
      "9\n"
     ]
    }
   ],
   "source": [
    "x = input()\n",
    "print(x)"
   ]
  },
  {
   "cell_type": "code",
   "execution_count": 3,
   "id": "36d3c3d6-c05f-4416-affc-52229d3ae359",
   "metadata": {},
   "outputs": [
    {
     "name": "stdout",
     "output_type": "stream",
     "text": [
      "9\n"
     ]
    }
   ],
   "source": [
    "x = 9.9\n",
    "print(int(x))"
   ]
  },
  {
   "cell_type": "code",
   "execution_count": 4,
   "id": "368d24c3-e550-42e5-890c-f2824d767a2f",
   "metadata": {},
   "outputs": [
    {
     "name": "stdout",
     "output_type": "stream",
     "text": [
      "10\n"
     ]
    }
   ],
   "source": [
    "x = 9.9\n",
    "print(round(x))"
   ]
  },
  {
   "cell_type": "code",
   "execution_count": 5,
   "id": "f582fd15-6cc9-4d57-b35d-ad901c01fdb1",
   "metadata": {},
   "outputs": [
    {
     "name": "stdout",
     "output_type": "stream",
     "text": [
      "1\n",
      "3\n",
      "5\n",
      "7\n",
      "9\n"
     ]
    }
   ],
   "source": [
    "for i in range(1, 10, 2):\n",
    "    print(i)"
   ]
  },
  {
   "cell_type": "code",
   "execution_count": 6,
   "id": "2dce9cc5-1d80-499e-9110-2a3f80f8a0f8",
   "metadata": {},
   "outputs": [
    {
     "name": "stdout",
     "output_type": "stream",
     "text": [
      "1\n",
      "2\n",
      "3\n",
      "4\n",
      "5\n",
      "6\n",
      "7\n",
      "8\n",
      "9\n"
     ]
    }
   ],
   "source": [
    "for i in range(1, 10):\n",
    "    print(i)"
   ]
  },
  {
   "cell_type": "code",
   "execution_count": 7,
   "id": "70c19ef7-f980-4bbb-be5d-65fdce40baf6",
   "metadata": {},
   "outputs": [
    {
     "name": "stdout",
     "output_type": "stream",
     "text": [
      "Hello\n",
      "Hello\n",
      "Hello\n",
      "Hello\n",
      "Hello\n",
      "Hello\n",
      "Hello\n",
      "Hello\n",
      "Hello\n"
     ]
    }
   ],
   "source": [
    "for i in range(1, 10):\n",
    "    print(\"Hello\")"
   ]
  },
  {
   "cell_type": "code",
   "execution_count": 8,
   "id": "4ad950a0-c4df-40dc-8e75-ce60917b133c",
   "metadata": {},
   "outputs": [
    {
     "name": "stdout",
     "output_type": "stream",
     "text": [
      "10\n",
      "9\n",
      "8\n",
      "7\n",
      "6\n",
      "5\n",
      "4\n",
      "3\n",
      "2\n",
      "1\n",
      "0\n",
      "-1\n",
      "-2\n",
      "-3\n",
      "-4\n",
      "-5\n",
      "-6\n",
      "-7\n",
      "-8\n",
      "-9\n"
     ]
    }
   ],
   "source": [
    "for i in range(10, -10, -1):\n",
    "    print(i)"
   ]
  },
  {
   "cell_type": "code",
   "execution_count": 9,
   "id": "897de309-caee-4b0b-9ef0-73c176008290",
   "metadata": {},
   "outputs": [
    {
     "name": "stdout",
     "output_type": "stream",
     "text": [
      "1\n",
      "2\n",
      "3\n",
      "4\n",
      "5\n",
      "6\n",
      "7\n",
      "8\n",
      "9\n",
      "10\n"
     ]
    }
   ],
   "source": [
    "i = 1\n",
    "while i <= 10:\n",
    "    print(i)\n",
    "    i += 1"
   ]
  },
  {
   "cell_type": "code",
   "execution_count": 10,
   "id": "9c95770c-4c20-48e8-8683-b503bb4f3af8",
   "metadata": {},
   "outputs": [
    {
     "name": "stdout",
     "output_type": "stream",
     "text": [
      "*****\n",
      "*****\n",
      "*****\n",
      "*****\n",
      "*****\n"
     ]
    }
   ],
   "source": [
    "for i in range(5):\n",
    "    for i in range(5):\n",
    "        print(\"*\", end=\"\")\n",
    "    print()"
   ]
  },
  {
   "cell_type": "code",
   "execution_count": 11,
   "id": "16003abe-9c16-4a53-b1cf-991d9060ec21",
   "metadata": {},
   "outputs": [
    {
     "name": "stdout",
     "output_type": "stream",
     "text": [
      "\n",
      "*\n",
      "**\n",
      "***\n",
      "****\n"
     ]
    }
   ],
   "source": [
    "for i in range(5):\n",
    "    for j in range(i):\n",
    "        print(\"*\", end=\"\")\n",
    "    print()"
   ]
  },
  {
   "cell_type": "code",
   "execution_count": 12,
   "id": "c4569676-5a7f-4d11-841f-85eb0afe4272",
   "metadata": {},
   "outputs": [
    {
     "name": "stdout",
     "output_type": "stream",
     "text": [
      "****\n",
      "***\n",
      "**\n",
      "*\n",
      "\n"
     ]
    }
   ],
   "source": [
    "for i in range(5, 0, -1):\n",
    "    for j in range(i-1):\n",
    "        print(\"*\", end=\"\")\n",
    "    print()"
   ]
  },
  {
   "cell_type": "code",
   "execution_count": 13,
   "id": "e7617276-d523-4f2b-b840-016b1afbb9cd",
   "metadata": {},
   "outputs": [
    {
     "name": "stdout",
     "output_type": "stream",
     "text": [
      "<class 'list'> [1, 2, 3, 4, 5]\n"
     ]
    }
   ],
   "source": [
    "x = [1, 2, 3, 4, 5]\n",
    "print(type(x), x)"
   ]
  },
  {
   "cell_type": "code",
   "execution_count": 14,
   "id": "f0648d28-5c42-4142-bad6-039c7d9bebe5",
   "metadata": {},
   "outputs": [
    {
     "data": {
      "text/plain": [
       "[1, 2, 3, 4, 5]"
      ]
     },
     "execution_count": 14,
     "metadata": {},
     "output_type": "execute_result"
    }
   ],
   "source": [
    "x[:]"
   ]
  },
  {
   "cell_type": "code",
   "execution_count": 15,
   "id": "9ffdf490-dc5e-44b4-ae4f-d375e6c9f7af",
   "metadata": {},
   "outputs": [
    {
     "data": {
      "text/plain": [
       "[1, 2, 3]"
      ]
     },
     "execution_count": 15,
     "metadata": {},
     "output_type": "execute_result"
    }
   ],
   "source": [
    "x[:3]"
   ]
  },
  {
   "cell_type": "code",
   "execution_count": 16,
   "id": "811e1e05-b476-43f9-b982-8e319acdbf7c",
   "metadata": {},
   "outputs": [
    {
     "data": {
      "text/plain": [
       "[5, 4, 3, 2, 1]"
      ]
     },
     "execution_count": 16,
     "metadata": {},
     "output_type": "execute_result"
    }
   ],
   "source": [
    "x[::-1]"
   ]
  },
  {
   "cell_type": "code",
   "execution_count": 17,
   "id": "14880364-1a42-4c89-a1a1-5ba3977f4167",
   "metadata": {},
   "outputs": [
    {
     "name": "stdout",
     "output_type": "stream",
     "text": [
      "<class 'tuple'> (1, 2, 3, 4, 5)\n"
     ]
    }
   ],
   "source": [
    "x = (1, 2, 3, 4, 5)\n",
    "print(type(x), x)"
   ]
  },
  {
   "cell_type": "code",
   "execution_count": 18,
   "id": "0a489499-0b85-4a1b-9f62-19136d2b2140",
   "metadata": {},
   "outputs": [
    {
     "name": "stdout",
     "output_type": "stream",
     "text": [
      "<class 'set'> {1, 2, 3, 4, 5}\n"
     ]
    }
   ],
   "source": [
    "x = {1, 2, 3, 4, 5}\n",
    "print(type(x), x)"
   ]
  },
  {
   "cell_type": "code",
   "execution_count": 19,
   "id": "58a46dd6-f108-4fec-8fcb-a8cf5c8c4042",
   "metadata": {},
   "outputs": [
    {
     "name": "stdout",
     "output_type": "stream",
     "text": [
      "<class 'dict'> {1: 'One', 'Two': 2}\n"
     ]
    }
   ],
   "source": [
    "x = {1:\"One\",\n",
    "    \"Two\":2}\n",
    "print(type(x), x)"
   ]
  },
  {
   "cell_type": "code",
   "execution_count": 20,
   "id": "ee4d7ff5-4c66-433c-b2f0-012b15d5177c",
   "metadata": {},
   "outputs": [
    {
     "data": {
      "text/plain": [
       "'One'"
      ]
     },
     "execution_count": 20,
     "metadata": {},
     "output_type": "execute_result"
    }
   ],
   "source": [
    "x[1]"
   ]
  },
  {
   "cell_type": "code",
   "execution_count": 21,
   "id": "b27cc463-7d49-4f53-ac85-9cb1bc3ffa42",
   "metadata": {},
   "outputs": [
    {
     "data": {
      "text/plain": [
       "dict_keys([1, 'Two'])"
      ]
     },
     "execution_count": 21,
     "metadata": {},
     "output_type": "execute_result"
    }
   ],
   "source": [
    "x.keys()"
   ]
  },
  {
   "cell_type": "code",
   "execution_count": 22,
   "id": "8c2598da-c550-4a16-9fd0-069af6efeb83",
   "metadata": {},
   "outputs": [
    {
     "data": {
      "text/plain": [
       "dict_values(['One', 2])"
      ]
     },
     "execution_count": 22,
     "metadata": {},
     "output_type": "execute_result"
    }
   ],
   "source": [
    "x.values()"
   ]
  },
  {
   "cell_type": "code",
   "execution_count": 23,
   "id": "8714d04c-e042-4bef-b2bd-e4b7beb12524",
   "metadata": {},
   "outputs": [
    {
     "data": {
      "text/plain": [
       "dict_items([(1, 'One'), ('Two', 2)])"
      ]
     },
     "execution_count": 23,
     "metadata": {},
     "output_type": "execute_result"
    }
   ],
   "source": [
    "x.items()"
   ]
  },
  {
   "cell_type": "code",
   "execution_count": 24,
   "id": "d295e535-38ed-481d-8036-5f63288bee48",
   "metadata": {},
   "outputs": [],
   "source": [
    "def args(*args):\n",
    "    for i in args:\n",
    "        print(i)"
   ]
  },
  {
   "cell_type": "code",
   "execution_count": 25,
   "id": "50feeacb-df65-4ca7-b921-9559d4302409",
   "metadata": {},
   "outputs": [
    {
     "name": "stdout",
     "output_type": "stream",
     "text": [
      "1\n",
      "2\n",
      "3\n",
      "4\n",
      "hello\n"
     ]
    }
   ],
   "source": [
    "args(1, 2, 3, 4, \"hello\")"
   ]
  },
  {
   "cell_type": "code",
   "execution_count": 26,
   "id": "acacbebc-f270-48b6-b8ef-2a76a9548773",
   "metadata": {},
   "outputs": [],
   "source": [
    "def kwargs(**kwargs):\n",
    "    for i, j in kwargs.items():\n",
    "        print(i, j)"
   ]
  },
  {
   "cell_type": "code",
   "execution_count": 27,
   "id": "6d5f1736-a60c-460e-8022-c1b95613b660",
   "metadata": {},
   "outputs": [
    {
     "name": "stdout",
     "output_type": "stream",
     "text": [
      "one One\n",
      "two 2\n"
     ]
    }
   ],
   "source": [
    "kwargs(one =\"One\", two = \"2\")"
   ]
  },
  {
   "cell_type": "code",
   "execution_count": 28,
   "id": "a7cdd104-20c1-4775-b042-91b47cf1ab96",
   "metadata": {},
   "outputs": [],
   "source": [
    "class A:\n",
    "    def __init__(self, name):\n",
    "        self.name = name"
   ]
  },
  {
   "cell_type": "code",
   "execution_count": 29,
   "id": "8d33520d-0f8e-43a3-a82c-d3f3d2699664",
   "metadata": {},
   "outputs": [
    {
     "name": "stdout",
     "output_type": "stream",
     "text": [
      "ILU\n"
     ]
    }
   ],
   "source": [
    "a = A(\"ILU\")\n",
    "print(a.name)"
   ]
  },
  {
   "cell_type": "code",
   "execution_count": 30,
   "id": "1963083f-854f-4fa9-b004-813e3dde88c6",
   "metadata": {},
   "outputs": [],
   "source": [
    "class A:\n",
    "    def func(self):\n",
    "        print(\"A\")\n",
    "class B(A):\n",
    "    def func1(self):\n",
    "        print(\"B\")"
   ]
  },
  {
   "cell_type": "code",
   "execution_count": 31,
   "id": "07e8881c-714a-480f-9ee6-f74789eef5ff",
   "metadata": {},
   "outputs": [
    {
     "name": "stdout",
     "output_type": "stream",
     "text": [
      "A\n"
     ]
    }
   ],
   "source": [
    "b = B()\n",
    "b.func()"
   ]
  },
  {
   "cell_type": "code",
   "execution_count": 32,
   "id": "8fba199b-49da-4ef6-892c-579c364b405c",
   "metadata": {},
   "outputs": [
    {
     "name": "stdout",
     "output_type": "stream",
     "text": [
      "B\n"
     ]
    }
   ],
   "source": [
    "b.func1()"
   ]
  },
  {
   "cell_type": "code",
   "execution_count": 33,
   "id": "39942ca3-429d-4161-aea2-890b356ed5c5",
   "metadata": {},
   "outputs": [],
   "source": [
    "class A:\n",
    "    def func(self):\n",
    "        print(\"A\")\n",
    "class B(A):\n",
    "    def func1(self):\n",
    "        print(\"B\")\n",
    "class C(B):\n",
    "    def func2(self):\n",
    "        print(\"C\")"
   ]
  },
  {
   "cell_type": "code",
   "execution_count": 34,
   "id": "69b6d6ef-86df-49cc-8432-03b46e80128d",
   "metadata": {},
   "outputs": [
    {
     "name": "stdout",
     "output_type": "stream",
     "text": [
      "A\n"
     ]
    }
   ],
   "source": [
    "c = C()\n",
    "c.func()"
   ]
  },
  {
   "cell_type": "code",
   "execution_count": 35,
   "id": "ff7dd9a8-1751-4646-a383-163317706b51",
   "metadata": {},
   "outputs": [
    {
     "name": "stdout",
     "output_type": "stream",
     "text": [
      "B\n"
     ]
    }
   ],
   "source": [
    "c.func1()"
   ]
  },
  {
   "cell_type": "code",
   "execution_count": 36,
   "id": "9fc1e905-d540-44ea-8e46-551636e0d382",
   "metadata": {},
   "outputs": [
    {
     "name": "stdout",
     "output_type": "stream",
     "text": [
      "C\n"
     ]
    }
   ],
   "source": [
    "c.func2()"
   ]
  },
  {
   "cell_type": "code",
   "execution_count": 37,
   "id": "2caae7b0-540c-46ea-9b49-9be8badd522b",
   "metadata": {},
   "outputs": [],
   "source": [
    "class A:\n",
    "    def func(self):\n",
    "        print(\"A\")\n",
    "class B:\n",
    "    def func1(self):\n",
    "        print(\"B\")\n",
    "class C(A, B):\n",
    "    def func2(self):\n",
    "        print(\"C\")"
   ]
  },
  {
   "cell_type": "code",
   "execution_count": 38,
   "id": "313ec015-1ec9-4d31-9622-7780012e0eec",
   "metadata": {},
   "outputs": [],
   "source": [
    "x = C()"
   ]
  },
  {
   "cell_type": "code",
   "execution_count": 39,
   "id": "e71c268c-9f1b-45b0-a2b9-fd3196733d31",
   "metadata": {},
   "outputs": [
    {
     "name": "stdout",
     "output_type": "stream",
     "text": [
      "A\n"
     ]
    }
   ],
   "source": [
    "x.func()"
   ]
  },
  {
   "cell_type": "code",
   "execution_count": 40,
   "id": "d787d578-a304-4cfe-a24c-9b15fd32bfc9",
   "metadata": {},
   "outputs": [
    {
     "name": "stdout",
     "output_type": "stream",
     "text": [
      "B\n",
      "C\n"
     ]
    }
   ],
   "source": [
    "x.func1()\n",
    "x.func2()"
   ]
  },
  {
   "cell_type": "markdown",
   "id": "0dcc788b-97e9-4a14-8302-6ac65561aaaf",
   "metadata": {},
   "source": [
    "# <b><u><font color = \"sky Blue\">DUCK TYPING"
   ]
  },
  {
   "cell_type": "code",
   "execution_count": 41,
   "id": "3721f543-9b18-4337-8b73-01a746a94162",
   "metadata": {},
   "outputs": [],
   "source": [
    "class pycharm:\n",
    "    def work(self):\n",
    "        print(\"Compiling and Executing\")\n",
    "\n",
    "class kit:\n",
    "    def func(self, ide):\n",
    "        ide.work()"
   ]
  },
  {
   "cell_type": "code",
   "execution_count": 42,
   "id": "c9f845cb-65a1-41d5-97b0-2ef0b881e94d",
   "metadata": {},
   "outputs": [
    {
     "name": "stdout",
     "output_type": "stream",
     "text": [
      "Compiling and Executing\n"
     ]
    }
   ],
   "source": [
    "ide = pycharm()\n",
    "k = kit()\n",
    "k.func(ide)"
   ]
  },
  {
   "cell_type": "code",
   "execution_count": 43,
   "id": "59b39b10-dcfa-4118-8dc7-20627d96ca35",
   "metadata": {},
   "outputs": [],
   "source": [
    "class A:\n",
    "    def func(self):\n",
    "        print(\"A\")\n",
    "class B(A):\n",
    "    def func(self):\n",
    "        print(\"B\")"
   ]
  },
  {
   "cell_type": "code",
   "execution_count": 44,
   "id": "ca3af4b0-ca07-4371-8a6f-14148f30a012",
   "metadata": {},
   "outputs": [
    {
     "name": "stdout",
     "output_type": "stream",
     "text": [
      "B\n"
     ]
    }
   ],
   "source": [
    "b = B()\n",
    "b.func()"
   ]
  },
  {
   "cell_type": "code",
   "execution_count": null,
   "id": "614564d7-9452-427b-9b1b-3d2c437f7804",
   "metadata": {},
   "outputs": [],
   "source": []
  }
 ],
 "metadata": {
  "kernelspec": {
   "display_name": "Python 3",
   "language": "python",
   "name": "python3"
  },
  "language_info": {
   "codemirror_mode": {
    "name": "ipython",
    "version": 3
   },
   "file_extension": ".py",
   "mimetype": "text/x-python",
   "name": "python",
   "nbconvert_exporter": "python",
   "pygments_lexer": "ipython3",
   "version": "3.8.8"
  }
 },
 "nbformat": 4,
 "nbformat_minor": 5
}
